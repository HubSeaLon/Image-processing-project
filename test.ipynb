{
 "cells": [
  {
   "cell_type": "code",
   "execution_count": null,
   "metadata": {},
   "outputs": [],
   "source": [
    "import cv2\n",
    "\n",
    "# Charger les images\n",
    "img1 = cv2.imread('image1.jpg', cv2.IMREAD_GRAYSCALE)\n",
    "img2 = cv2.imread('image2.jpg', cv2.IMREAD_GRAYSCALE)\n",
    "\n",
    "# Initialiser l'extracteur SIFT\n",
    "sift = cv2.SIFT_create()\n",
    "\n",
    "# Trouver les points d'intérêt et les descripteurs pour chaque image\n",
    "kp1, des1 = sift.detectAndCompute(img1, None)\n",
    "kp2, des2 = sift.detectAndCompute(img2, None)\n",
    "\n",
    "# Utiliser un algorithme de correspondance, par exemple, FLANN\n",
    "flann = cv2.FlannBasedMatcher({'algorithm': 0, 'trees': 5}, {})\n",
    "matches = flann.knnMatch(des1, des2, k=2)\n",
    "\n",
    "# Filtrer les correspondances\n",
    "good_matches = []\n",
    "for m, n in matches:\n",
    "    if m.distance < 0.7 * n.distance:\n",
    "        good_matches.append(m)\n",
    "\n",
    "# Afficher les correspondances\n",
    "img_matches = cv2.drawMatches(img1, kp1, img2, kp2, good_matches, None)\n",
    "cv2.imshow('Matches', img_matches)\n",
    "cv2.waitKey(0)\n",
    "cv2.destroyAllWindows()\n",
    "\n",
    "\n"
   ]
  }
 ],
 "metadata": {
  "language_info": {
   "name": "python"
  },
  "orig_nbformat": 4
 },
 "nbformat": 4,
 "nbformat_minor": 2
}
