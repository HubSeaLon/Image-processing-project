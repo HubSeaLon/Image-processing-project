{
 "cells": [
  {
   "cell_type": "code",
   "execution_count": null,
   "metadata": {},
   "outputs": [],
   "source": [
    "import cv2\n",
    "\n",
    "# Charger les images\n",
    "img1 = cv2.imread('image1.jpg', cv2.IMREAD_GRAYSCALE)\n",
    "img2 = cv2.imread('image2.jpg', cv2.IMREAD_GRAYSCALE)\n",
    "img3 = cv2.imread('image3.jpg', cv2.IMREAD_GRAYSCALE)\n",
    "\n",
    "# Initialiser l'extracteur SIFT\n",
    "sift = cv2.SIFT_create()\n",
    "\n",
    "# Trouver les points d'intérêt et les descripteurs pour chaque paire d'images\n",
    "kp1, des1 = sift.detectAndCompute(img1, None)\n",
    "kp2, des2 = sift.detectAndCompute(img2, None)\n",
    "kp3, des3 = sift.detectAndCompute(img3, None)\n",
    "\n",
    "# Utiliser un algorithme de correspondance, par exemple, FLANN\n",
    "flann = cv2.FlannBasedMatcher({'algorithm': 0, 'trees': 5}, {})\n",
    "\n",
    "# Correspondances entre img1 et img3\n",
    "matches_1_to_3 = flann.knnMatch(des1, des3, k=2)\n",
    "\n",
    "# Correspondances entre img2 et img3\n",
    "matches_2_to_3 = flann.knnMatch(des2, des3, k=2)\n",
    "\n",
    "# Appliquer un seuil pour filtrer les correspondances\n",
    "good_matches_1_to_3 = [m for m, n in matches_1_to_3 if m.distance < 0.7 * n.distance]\n",
    "good_matches_2_to_3 = [m for m, n in matches_2_to_3 if m.distance < 0.7 * n.distance]\n",
    "\n",
    "# Afficher les correspondances pour chaque paire\n",
    "img_matches_1_to_3 = cv2.drawMatches(img1, kp1, img3, kp3, good_matches_1_to_3, None)\n",
    "img_matches_2_to_3 = cv2.drawMatches(img2, kp2, img3, kp3, good_matches_2_to_3, None)\n",
    "\n",
    "cv2.imshow('Matches between img1 and img3', img_matches_1_to_3)\n",
    "cv2.imshow('Matches between img2 and img3', img_matches_2_to_3)\n",
    "cv2.waitKey(0)\n",
    "cv2.destroyAllWindows()\n"
   ]
  }
 ],
 "metadata": {
  "language_info": {
   "name": "python"
  },
  "orig_nbformat": 4
 },
 "nbformat": 4,
 "nbformat_minor": 2
}
