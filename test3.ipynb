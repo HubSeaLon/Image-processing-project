{
 "cells": [
  {
   "cell_type": "code",
   "execution_count": null,
   "metadata": {},
   "outputs": [],
   "source": [
    "import cv2\n",
    "import numpy as np\n",
    "\n",
    "# Charger les images\n",
    "img1 = cv2.imread('image1.jpg', cv2.IMREAD_GRAYSCALE)\n",
    "img2 = cv2.imread('image2.jpg', cv2.IMREAD_GRAYSCALE)\n",
    "img3 = cv2.imread('image3.jpg', cv2.IMREAD_GRAYSCALE)\n",
    "\n",
    "# Initialiser l'extracteur ORB\n",
    "orb = cv2.ORB_create()\n",
    "\n",
    "# Trouver les points d'intérêt et les descripteurs pour chaque paire d'images\n",
    "kp1, des1 = orb.detectAndCompute(img1, None)\n",
    "kp2, des2 = orb.detectAndCompute(img2, None)\n",
    "kp3, des3 = orb.detectAndCompute(img3, None)\n",
    "\n",
    "# Utiliser un algorithme de correspondance, par exemple, BFMatcher\n",
    "bf = cv2.BFMatcher(cv2.NORM_HAMMING, crossCheck=True)\n",
    "\n",
    "# Correspondances entre img1 et img3\n",
    "matches_1_to_3 = bf.match(des1, des3)\n",
    "\n",
    "# Correspondances entre img2 et img3\n",
    "matches_2_to_3 = bf.match(des2, des3)\n",
    "\n",
    "# Trier les correspondances par distance\n",
    "matches_1_to_3 = sorted(matches_1_to_3, key=lambda x: x.distance)\n",
    "matches_2_to_3 = sorted(matches_2_to_3, key=lambda x: x.distance)\n",
    "\n",
    "# Conserver les 30 meilleures correspondances\n",
    "good_matches_1_to_3 = matches_1_to_3[:30]\n",
    "good_matches_2_to_3 = matches_2_to_3[:30]\n",
    "\n",
    "# Créer une nouvelle image pour afficher les correspondances\n",
    "img_matches_1_to_3 = cv2.drawMatches(img1, kp1, img3, kp3, good_matches_1_to_3, None)\n",
    "img_matches_2_to_3 = cv2.drawMatches(img2, kp2, img3, kp3, good_matches_2_to_3, None)\n",
    "\n",
    "# Concaténer les deux images horizontalement\n",
    "result_image = np.concatenate((img_matches_1_to_3, img_matches_2_to_3), axis=1)\n",
    "\n",
    "# Afficher l'image contenant les deux paires de correspondances\n",
    "cv2.imshow('Matches between img1, img2, and img3 (ORB)', result_image)\n",
    "cv2.waitKey(0)\n",
    "cv2.destroyAllWindows()\n"
   ]
  }
 ],
 "metadata": {
  "language_info": {
   "name": "python"
  },
  "orig_nbformat": 4
 },
 "nbformat": 4,
 "nbformat_minor": 2
}
